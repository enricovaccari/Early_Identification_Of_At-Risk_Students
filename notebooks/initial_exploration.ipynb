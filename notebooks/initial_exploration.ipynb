{
 "cells": [
  {
   "cell_type": "markdown",
   "id": "27f11192",
   "metadata": {},
   "source": [
    "## SETUP PROJECT AND PATH to src\\\n",
    "\n",
    "why: in jupyter notebook I can't use __file__ to get to the project dir, so I need to use Path-cwd"
   ]
  },
  {
   "cell_type": "code",
   "execution_count": 40,
   "id": "a9d4396c",
   "metadata": {},
   "outputs": [],
   "source": [
    "import sys\n",
    "import importlib"
   ]
  },
  {
   "cell_type": "code",
   "execution_count": null,
   "id": "6db251e1",
   "metadata": {},
   "outputs": [
    {
     "name": "stdout",
     "output_type": "stream",
     "text": [
      "utils.py imported from: C:\\Users\\Vaccari\\Desktop\\iCloudDrive\\Desktop\\ENRICO\\05_LEARNING\\University\\ToU\\Phases\\02_Calibration_Phase\\Applied_Machine_Learning\\Regression\\beyond-grades-ml-project\\src\n"
     ]
    }
   ],
   "source": [
    "\n",
    "# -------------------------------------------------------------------\n",
    "# VARIABLES\n",
    "# -------------------------------------------------------------------\n",
    "\n",
    "# Project root = one folder above the current notebook\n",
    "try:\n",
    "    PROJECT_ROOT = Path(__file__).resolve().parent.parent\n",
    "except NameError:  # when running inside Jupyter\n",
    "    PROJECT_ROOT = Path.cwd().resolve().parent\n",
    "\n",
    "\n",
    "# Path to src folder\n",
    "SRC_PATH = PROJECT_ROOT / \"src\"\n",
    "\n",
    "# Add src to sys.path if not already there\n",
    "if str(SRC_PATH) not in sys.path:\n",
    "    sys.path.insert(0, str(SRC_PATH))\n",
    "\n",
    "# -------------------------------------------------------------------\n",
    "# IMPORT UTILS\n",
    "# -------------------------------------------------------------------\n",
    "\n",
    "import utils\n",
    "importlib.reload(utils)  # so edits to utils.py are reflected without restarting kernel\n",
    "print(\"utils.py imported from:\", SRC_PATH)"
   ]
  },
  {
   "cell_type": "code",
   "execution_count": 48,
   "id": "2a0590af",
   "metadata": {},
   "outputs": [
    {
     "name": "stdout",
     "output_type": "stream",
     "text": [
      "C:\\Users\\Vaccari\\Desktop\\iCloudDrive\\Desktop\\ENRICO\\05_LEARNING\\University\\ToU\\Phases\\02_Calibration_Phase\\Applied_Machine_Learning\\Regression\\beyond-grades-ml-project\\data\\raw\\student_performance_data_2025.csv\n"
     ]
    }
   ],
   "source": [
    "csv_path = utils.get_student_csv_path()\n",
    "print(csv_path)"
   ]
  },
  {
   "cell_type": "code",
   "execution_count": null,
   "id": "7b9f77a7",
   "metadata": {},
   "outputs": [
    {
     "name": "stdout",
     "output_type": "stream",
     "text": [
      "✅ File saved at: C:\\Users\\Vaccari\\Desktop\\iCloudDrive\\Desktop\\ENRICO\\05_LEARNING\\University\\ToU\\Phases\\02_Calibration_Phase\\Applied_Machine_Learning\\Regression\\beyond-grades-ml-project\\data\\processed\\01_dataset_raw.xlsx\n"
     ]
    }
   ],
   "source": [
    "df = utils.load_student_csv(csv_path)\n",
    "utils.save_dataset(df, '01_dataset_raw.xlsx')"
   ]
  }
 ],
 "metadata": {
  "kernelspec": {
   "display_name": "Python 3",
   "language": "python",
   "name": "python3"
  },
  "language_info": {
   "codemirror_mode": {
    "name": "ipython",
    "version": 3
   },
   "file_extension": ".py",
   "mimetype": "text/x-python",
   "name": "python",
   "nbconvert_exporter": "python",
   "pygments_lexer": "ipython3",
   "version": "3.10.2"
  }
 },
 "nbformat": 4,
 "nbformat_minor": 5
}
